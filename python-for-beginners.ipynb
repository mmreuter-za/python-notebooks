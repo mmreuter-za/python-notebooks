{
 "metadata": {
  "language_info": {
   "codemirror_mode": {
    "name": "ipython",
    "version": 3
   },
   "file_extension": ".py",
   "mimetype": "text/x-python",
   "name": "python",
   "nbconvert_exporter": "python",
   "pygments_lexer": "ipython3",
   "version": 3
  },
  "orig_nbformat": 2
 },
 "nbformat": 4,
 "nbformat_minor": 2,
 "cells": [
  {
   "source": [
    "# Python for beginners\n",
    "### A collection of notes and tutorials I used to get started with python"
   ],
   "cell_type": "markdown",
   "metadata": {}
  },
  {
   "source": [
    "# Chapter 1: Style Guide for Data Scientists\n",
    "\n",
    "This style guide is meant for use by advanced beginner to advanced intermediate developers of scientific code in Python. In other words, non-professional programmers...for example, data scientists. \n",
    "\n",
    "\n",
    "\n",
    "https://columbia-applied-data-science.github.io/pages/lowclass-python-style-guide.html\n",
    "\n",
    "## 1.1 Basics\n",
    "### Separation of source code from scripts\n",
    "\n",
    "It is ok to write quick and dirty scripts to get some job done (e.g. replacing words in a file). These should be kept in a separate directory than the source code, which needs to follow the other conventions in this guide. Keep in mind that as scripts grow, you will be expected to make them adhere to this guide.\n",
    "\n",
    "### Initial reading\n",
    "Read and follow Code like a pythonista.\n",
    "Find a tutorial on Object Oriented Design (OOD) in Python and make sure you understand how to create a class and understand attributes and methods. Make sure you've worked through one example of class inheritance.\n",
    "\n",
    "### Some rules\n",
    "The standard basic style-guide is PEP8. Read this from beginning until the Version Bookkeeping section. Here we present some additions/clarifications/modifications. The reason for consistency in style is that it makes it easier for others to read and grep your code.\n",
    "\n",
    "- Use 4 spaces per indentation level. This is absolutely essential since code that uses different indentation cannot be used together! Tabs cannot be used. This does not mean you have to hit the space bar four times. Every decent text editor has a setting that allows you to map the tab key to spaces.\n",
    "- Limit lines to some pre-determined number of characters. 79 is the accepted standard and to contribute to many projects you will need to adhere to this.\n",
    "- Try to limit functions to 50 lines (not including doc strings). If a function is longer than 50 lines you have probably made it do too many things. Something close to 20 lines should be your average.\n",
    "- Don't use abbreviations unless the word will be used many many times. If you're worried about having to type long names, then learn to use tab complete. The only short names that are acceptable are common math names such as x, y, X, Y, t, and counters such as i, j, k (used ONLY for the normal purposes). Note that it is standard convention to never use single letters as variable names, and to only use lower case letters and underscores...so we're breaking from Python programming convention here in the name of conforming to math/stats/ML convention.\n",
    "- Try to be consistent with names across multiple functions. In other words, don't use the full name in one location and an abbreviation elsewhere.\n",
    "\n",
    "\n",
    "___\n",
    "\n",
    "\n"
   ],
   "cell_type": "markdown",
   "metadata": {}
  },
  {
   "source": [
    "## 1.2 Simplicity\n",
    "### Simple is better!\n",
    "While designing and writing code, the goal of simplicity should be foremost in your mind. Your code must be understood, used, and maintained by many different people, over long time periods. Adding additional complexity to your code forces these people to do unnecessary work. This is rude and causes mistakes. This principle is sometimes called KISS.\n",
    "\n",
    "A very simple useful pattern is to write functions that take well-defined inputs and produce well-defined output. You tie these together with code that reads like a book. For example,\n",
    "\n"
   ],
   "cell_type": "markdown",
   "metadata": {}
  },
  {
   "cell_type": "code",
   "execution_count": null,
   "metadata": {},
   "outputs": [],
   "source": []
  }
 ]
}